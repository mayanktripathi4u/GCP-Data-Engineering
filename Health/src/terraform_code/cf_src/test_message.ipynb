{
 "cells": [
  {
   "cell_type": "code",
   "execution_count": 2,
   "metadata": {},
   "outputs": [
    {
     "name": "stdout",
     "output_type": "stream",
     "text": [
      "\u001b[33mWARNING: Package(s) not found: google-cloud-pubsub\u001b[0m\u001b[33m\n",
      "\u001b[0m"
     ]
    }
   ],
   "source": [
    "!pip show google-cloud-pubsub"
   ]
  },
  {
   "cell_type": "code",
   "execution_count": 3,
   "metadata": {},
   "outputs": [
    {
     "name": "stdout",
     "output_type": "stream",
     "text": [
      "Collecting google-cloud-pubsub\n",
      "  Downloading google_cloud_pubsub-2.26.0-py2.py3-none-any.whl.metadata (9.6 kB)\n",
      "Requirement already satisfied: grpcio<2.0dev,>=1.51.3 in /Users/tripathimachine/Desktop/Apps/GitHub_Repo/DevOps_End_To_End_Project/.venv/lib/python3.12/site-packages (from google-cloud-pubsub) (1.66.2)\n",
      "Requirement already satisfied: google-auth<3.0.0dev,>=2.14.1 in /Users/tripathimachine/Desktop/Apps/GitHub_Repo/DevOps_End_To_End_Project/.venv/lib/python3.12/site-packages (from google-cloud-pubsub) (2.30.0)\n",
      "Requirement already satisfied: google-api-core!=2.0.*,!=2.1.*,!=2.10.*,!=2.2.*,!=2.3.*,!=2.4.*,!=2.5.*,!=2.6.*,!=2.7.*,!=2.8.*,!=2.9.*,<3.0.0dev,>=1.34.0 in /Users/tripathimachine/Desktop/Apps/GitHub_Repo/DevOps_End_To_End_Project/.venv/lib/python3.12/site-packages (from google-api-core[grpc]!=2.0.*,!=2.1.*,!=2.10.*,!=2.2.*,!=2.3.*,!=2.4.*,!=2.5.*,!=2.6.*,!=2.7.*,!=2.8.*,!=2.9.*,<3.0.0dev,>=1.34.0->google-cloud-pubsub) (2.19.1)\n",
      "Requirement already satisfied: proto-plus<2.0.0dev,>=1.22.0 in /Users/tripathimachine/Desktop/Apps/GitHub_Repo/DevOps_End_To_End_Project/.venv/lib/python3.12/site-packages (from google-cloud-pubsub) (1.24.0)\n",
      "Requirement already satisfied: protobuf!=4.21.0,!=4.21.1,!=4.21.2,!=4.21.3,!=4.21.4,!=4.21.5,<6.0.0dev,>=3.20.2 in /Users/tripathimachine/Desktop/Apps/GitHub_Repo/DevOps_End_To_End_Project/.venv/lib/python3.12/site-packages (from google-cloud-pubsub) (5.28.2)\n",
      "Requirement already satisfied: grpc-google-iam-v1<1.0.0dev,>=0.12.4 in /Users/tripathimachine/Desktop/Apps/GitHub_Repo/DevOps_End_To_End_Project/.venv/lib/python3.12/site-packages (from google-cloud-pubsub) (0.13.1)\n",
      "Requirement already satisfied: grpcio-status>=1.33.2 in /Users/tripathimachine/Desktop/Apps/GitHub_Repo/DevOps_End_To_End_Project/.venv/lib/python3.12/site-packages (from google-cloud-pubsub) (1.66.2)\n",
      "Collecting opentelemetry-api>=1.27.0 (from google-cloud-pubsub)\n",
      "  Using cached opentelemetry_api-1.27.0-py3-none-any.whl.metadata (1.4 kB)\n",
      "Collecting opentelemetry-sdk>=1.27.0 (from google-cloud-pubsub)\n",
      "  Using cached opentelemetry_sdk-1.27.0-py3-none-any.whl.metadata (1.5 kB)\n",
      "Requirement already satisfied: googleapis-common-protos<2.0.dev0,>=1.56.2 in /Users/tripathimachine/Desktop/Apps/GitHub_Repo/DevOps_End_To_End_Project/.venv/lib/python3.12/site-packages (from google-api-core!=2.0.*,!=2.1.*,!=2.10.*,!=2.2.*,!=2.3.*,!=2.4.*,!=2.5.*,!=2.6.*,!=2.7.*,!=2.8.*,!=2.9.*,<3.0.0dev,>=1.34.0->google-api-core[grpc]!=2.0.*,!=2.1.*,!=2.10.*,!=2.2.*,!=2.3.*,!=2.4.*,!=2.5.*,!=2.6.*,!=2.7.*,!=2.8.*,!=2.9.*,<3.0.0dev,>=1.34.0->google-cloud-pubsub) (1.63.2)\n",
      "Requirement already satisfied: requests<3.0.0.dev0,>=2.18.0 in /Users/tripathimachine/Desktop/Apps/GitHub_Repo/DevOps_End_To_End_Project/.venv/lib/python3.12/site-packages (from google-api-core!=2.0.*,!=2.1.*,!=2.10.*,!=2.2.*,!=2.3.*,!=2.4.*,!=2.5.*,!=2.6.*,!=2.7.*,!=2.8.*,!=2.9.*,<3.0.0dev,>=1.34.0->google-api-core[grpc]!=2.0.*,!=2.1.*,!=2.10.*,!=2.2.*,!=2.3.*,!=2.4.*,!=2.5.*,!=2.6.*,!=2.7.*,!=2.8.*,!=2.9.*,<3.0.0dev,>=1.34.0->google-cloud-pubsub) (2.32.3)\n",
      "Requirement already satisfied: cachetools<6.0,>=2.0.0 in /Users/tripathimachine/Desktop/Apps/GitHub_Repo/DevOps_End_To_End_Project/.venv/lib/python3.12/site-packages (from google-auth<3.0.0dev,>=2.14.1->google-cloud-pubsub) (5.3.3)\n",
      "Requirement already satisfied: pyasn1-modules>=0.2.1 in /Users/tripathimachine/Desktop/Apps/GitHub_Repo/DevOps_End_To_End_Project/.venv/lib/python3.12/site-packages (from google-auth<3.0.0dev,>=2.14.1->google-cloud-pubsub) (0.4.0)\n",
      "Requirement already satisfied: rsa<5,>=3.1.4 in /Users/tripathimachine/Desktop/Apps/GitHub_Repo/DevOps_End_To_End_Project/.venv/lib/python3.12/site-packages (from google-auth<3.0.0dev,>=2.14.1->google-cloud-pubsub) (4.9)\n",
      "Collecting deprecated>=1.2.6 (from opentelemetry-api>=1.27.0->google-cloud-pubsub)\n",
      "  Using cached Deprecated-1.2.14-py2.py3-none-any.whl.metadata (5.4 kB)\n",
      "Collecting importlib-metadata<=8.4.0,>=6.0 (from opentelemetry-api>=1.27.0->google-cloud-pubsub)\n",
      "  Using cached importlib_metadata-8.4.0-py3-none-any.whl.metadata (4.7 kB)\n",
      "Collecting opentelemetry-semantic-conventions==0.48b0 (from opentelemetry-sdk>=1.27.0->google-cloud-pubsub)\n",
      "  Using cached opentelemetry_semantic_conventions-0.48b0-py3-none-any.whl.metadata (2.4 kB)\n",
      "Requirement already satisfied: typing-extensions>=3.7.4 in /Users/tripathimachine/Desktop/Apps/GitHub_Repo/DevOps_End_To_End_Project/.venv/lib/python3.12/site-packages (from opentelemetry-sdk>=1.27.0->google-cloud-pubsub) (4.12.2)\n",
      "Collecting wrapt<2,>=1.10 (from deprecated>=1.2.6->opentelemetry-api>=1.27.0->google-cloud-pubsub)\n",
      "  Using cached wrapt-1.16.0-cp312-cp312-macosx_11_0_arm64.whl.metadata (6.6 kB)\n",
      "Collecting zipp>=0.5 (from importlib-metadata<=8.4.0,>=6.0->opentelemetry-api>=1.27.0->google-cloud-pubsub)\n",
      "  Using cached zipp-3.20.2-py3-none-any.whl.metadata (3.7 kB)\n",
      "Requirement already satisfied: pyasn1<0.7.0,>=0.4.6 in /Users/tripathimachine/Desktop/Apps/GitHub_Repo/DevOps_End_To_End_Project/.venv/lib/python3.12/site-packages (from pyasn1-modules>=0.2.1->google-auth<3.0.0dev,>=2.14.1->google-cloud-pubsub) (0.6.0)\n",
      "Requirement already satisfied: charset-normalizer<4,>=2 in /Users/tripathimachine/Desktop/Apps/GitHub_Repo/DevOps_End_To_End_Project/.venv/lib/python3.12/site-packages (from requests<3.0.0.dev0,>=2.18.0->google-api-core!=2.0.*,!=2.1.*,!=2.10.*,!=2.2.*,!=2.3.*,!=2.4.*,!=2.5.*,!=2.6.*,!=2.7.*,!=2.8.*,!=2.9.*,<3.0.0dev,>=1.34.0->google-api-core[grpc]!=2.0.*,!=2.1.*,!=2.10.*,!=2.2.*,!=2.3.*,!=2.4.*,!=2.5.*,!=2.6.*,!=2.7.*,!=2.8.*,!=2.9.*,<3.0.0dev,>=1.34.0->google-cloud-pubsub) (3.3.2)\n",
      "Requirement already satisfied: idna<4,>=2.5 in /Users/tripathimachine/Desktop/Apps/GitHub_Repo/DevOps_End_To_End_Project/.venv/lib/python3.12/site-packages (from requests<3.0.0.dev0,>=2.18.0->google-api-core!=2.0.*,!=2.1.*,!=2.10.*,!=2.2.*,!=2.3.*,!=2.4.*,!=2.5.*,!=2.6.*,!=2.7.*,!=2.8.*,!=2.9.*,<3.0.0dev,>=1.34.0->google-api-core[grpc]!=2.0.*,!=2.1.*,!=2.10.*,!=2.2.*,!=2.3.*,!=2.4.*,!=2.5.*,!=2.6.*,!=2.7.*,!=2.8.*,!=2.9.*,<3.0.0dev,>=1.34.0->google-cloud-pubsub) (3.7)\n",
      "Requirement already satisfied: urllib3<3,>=1.21.1 in /Users/tripathimachine/Desktop/Apps/GitHub_Repo/DevOps_End_To_End_Project/.venv/lib/python3.12/site-packages (from requests<3.0.0.dev0,>=2.18.0->google-api-core!=2.0.*,!=2.1.*,!=2.10.*,!=2.2.*,!=2.3.*,!=2.4.*,!=2.5.*,!=2.6.*,!=2.7.*,!=2.8.*,!=2.9.*,<3.0.0dev,>=1.34.0->google-api-core[grpc]!=2.0.*,!=2.1.*,!=2.10.*,!=2.2.*,!=2.3.*,!=2.4.*,!=2.5.*,!=2.6.*,!=2.7.*,!=2.8.*,!=2.9.*,<3.0.0dev,>=1.34.0->google-cloud-pubsub) (2.2.2)\n",
      "Requirement already satisfied: certifi>=2017.4.17 in /Users/tripathimachine/Desktop/Apps/GitHub_Repo/DevOps_End_To_End_Project/.venv/lib/python3.12/site-packages (from requests<3.0.0.dev0,>=2.18.0->google-api-core!=2.0.*,!=2.1.*,!=2.10.*,!=2.2.*,!=2.3.*,!=2.4.*,!=2.5.*,!=2.6.*,!=2.7.*,!=2.8.*,!=2.9.*,<3.0.0dev,>=1.34.0->google-api-core[grpc]!=2.0.*,!=2.1.*,!=2.10.*,!=2.2.*,!=2.3.*,!=2.4.*,!=2.5.*,!=2.6.*,!=2.7.*,!=2.8.*,!=2.9.*,<3.0.0dev,>=1.34.0->google-cloud-pubsub) (2024.6.2)\n",
      "Downloading google_cloud_pubsub-2.26.0-py2.py3-none-any.whl (289 kB)\n",
      "\u001b[2K   \u001b[90m━━━━━━━━━━━━━━━━━━━━━━━━━━━━━━━━━━━━━━━━\u001b[0m \u001b[32m289.6/289.6 kB\u001b[0m \u001b[31m4.4 MB/s\u001b[0m eta \u001b[36m0:00:00\u001b[0ma \u001b[36m0:00:01\u001b[0m\n",
      "\u001b[?25hUsing cached opentelemetry_api-1.27.0-py3-none-any.whl (63 kB)\n",
      "Using cached opentelemetry_sdk-1.27.0-py3-none-any.whl (110 kB)\n",
      "Using cached opentelemetry_semantic_conventions-0.48b0-py3-none-any.whl (149 kB)\n",
      "Using cached Deprecated-1.2.14-py2.py3-none-any.whl (9.6 kB)\n",
      "Using cached importlib_metadata-8.4.0-py3-none-any.whl (26 kB)\n",
      "Using cached wrapt-1.16.0-cp312-cp312-macosx_11_0_arm64.whl (38 kB)\n",
      "Using cached zipp-3.20.2-py3-none-any.whl (9.2 kB)\n",
      "Installing collected packages: zipp, wrapt, importlib-metadata, deprecated, opentelemetry-api, opentelemetry-semantic-conventions, opentelemetry-sdk, google-cloud-pubsub\n",
      "Successfully installed deprecated-1.2.14 google-cloud-pubsub-2.26.0 importlib-metadata-8.4.0 opentelemetry-api-1.27.0 opentelemetry-sdk-1.27.0 opentelemetry-semantic-conventions-0.48b0 wrapt-1.16.0 zipp-3.20.2\n",
      "\n",
      "\u001b[1m[\u001b[0m\u001b[34;49mnotice\u001b[0m\u001b[1;39;49m]\u001b[0m\u001b[39;49m A new release of pip is available: \u001b[0m\u001b[31;49m24.0\u001b[0m\u001b[39;49m -> \u001b[0m\u001b[32;49m24.2\u001b[0m\n",
      "\u001b[1m[\u001b[0m\u001b[34;49mnotice\u001b[0m\u001b[1;39;49m]\u001b[0m\u001b[39;49m To update, run: \u001b[0m\u001b[32;49mpip install --upgrade pip\u001b[0m\n"
     ]
    }
   ],
   "source": [
    "!pip install google-cloud-pubsub"
   ]
  },
  {
   "cell_type": "code",
   "execution_count": 11,
   "metadata": {},
   "outputs": [],
   "source": [
    "from google.cloud import pubsub_v1\n",
    "import datetime\n",
    "import random"
   ]
  },
  {
   "cell_type": "code",
   "execution_count": 5,
   "metadata": {},
   "outputs": [],
   "source": [
    "# # Initialize the Pub/Sub client\n",
    "# project_id = \"YOUR_PROJECT_ID\"\n",
    "# topic_id = \"YOUR_TOPIC_ID\""
   ]
  },
  {
   "cell_type": "code",
   "execution_count": 7,
   "metadata": {},
   "outputs": [],
   "source": [
    "# publisher = pubsub_v1.PublisherClient()\n",
    "# topic_path = publisher.topic_path(project_id, topic_id)"
   ]
  },
  {
   "cell_type": "code",
   "execution_count": 12,
   "metadata": {},
   "outputs": [],
   "source": [
    "# Create an HL7v2 message\n",
    "def create_hl7_message():\n",
    "    timestamp = datetime.datetime.now().strftime('%Y%m%d%H%M%S')\n",
    "    # hl7_message = (\n",
    "    #     f\"MSH|^~\\\\&|SendingApp|SendingFacility|ReceivingApp|ReceivingFacility|\"\n",
    "    #     f\"{timestamp}||ORM^O01|123456|P|2.3\\r\"\n",
    "    #     \"PID|1||123456||Doe^John||19800101|M\\r\"\n",
    "    #     \"OBR|1|123456|123456|Test^TestName||\" + timestamp\n",
    "    # )\n",
    "    hl7_message = (\n",
    "        f\"MSH|^~\\\\&|SendingApp|SendingFacility|ReceivingApp|ReceivingFacility|\"\n",
    "        f\"{timestamp}||ORM^O01|{random.randint(100000, 999999)}|P|2.3\\r\"\n",
    "        f\"PID|1||{random.randint(100000, 999999)}||Doe^John||19800101|M\\r\"\n",
    "        f\"OBR|1|{random.randint(100000, 999999)}|{random.randint(100000, 999999)}|Test^TestName||{timestamp}\"\n",
    "    )\n",
    "    return hl7_message"
   ]
  },
  {
   "cell_type": "code",
   "execution_count": 9,
   "metadata": {},
   "outputs": [],
   "source": [
    "# Publish the message\n",
    "def publish_hl7_message():\n",
    "    hl7_message = create_hl7_message()\n",
    "    data = hl7_message.encode(\"utf-8\")\n",
    "    print(f\"Message to Publish : {data}\")\n",
    "    # future = publisher.publish(topic_path, data)\n",
    "    # print(f\"Published message ID: {future.result()}\")\n"
   ]
  },
  {
   "cell_type": "code",
   "execution_count": 13,
   "metadata": {},
   "outputs": [],
   "source": [
    "# Publish a random number of HL7v2 messages\n",
    "def publish_random_hl7_messages():\n",
    "    num_messages = random.randint(1, 50)  # Generate a random number between 1 and 50\n",
    "    print(f\"Publishing {num_messages} messages.\")\n",
    "    \n",
    "    for _ in range(num_messages):\n",
    "        hl7_message = create_hl7_message()\n",
    "        data = hl7_message.encode(\"utf-8\")\n",
    "        print(f\"Message to Publish : {data}\")\n",
    "        # future = publisher.publish(topic_path, data)\n",
    "        # print(f\"Published message ID: {future.result()}\")\n"
   ]
  },
  {
   "cell_type": "code",
   "execution_count": 10,
   "metadata": {},
   "outputs": [
    {
     "name": "stdout",
     "output_type": "stream",
     "text": [
      "Message to Publish : b'MSH|^~\\\\&|SendingApp|SendingFacility|ReceivingApp|ReceivingFacility|20241013002905||ORM^O01|123456|P|2.3\\rPID|1||123456||Doe^John||19800101|M\\rOBR|1|123456|123456|Test^TestName||20241013002905'\n"
     ]
    }
   ],
   "source": [
    "# if __name__ == \"__main__\":\n",
    "#     publish_hl7_message()\n",
    "\n",
    "# publish_hl7_message()\n",
    "publish_random_hl7_messages()"
   ]
  },
  {
   "cell_type": "code",
   "execution_count": null,
   "metadata": {},
   "outputs": [],
   "source": []
  }
 ],
 "metadata": {
  "kernelspec": {
   "display_name": ".venv",
   "language": "python",
   "name": "python3"
  },
  "language_info": {
   "codemirror_mode": {
    "name": "ipython",
    "version": 3
   },
   "file_extension": ".py",
   "mimetype": "text/x-python",
   "name": "python",
   "nbconvert_exporter": "python",
   "pygments_lexer": "ipython3",
   "version": "3.12.5"
  }
 },
 "nbformat": 4,
 "nbformat_minor": 2
}
