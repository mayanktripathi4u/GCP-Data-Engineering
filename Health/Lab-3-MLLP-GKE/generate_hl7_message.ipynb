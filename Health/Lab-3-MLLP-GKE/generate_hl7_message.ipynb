{
 "cells": [
  {
   "cell_type": "markdown",
   "metadata": {},
   "source": [
    "# Ways to create or generate HL7 Messages using Python\n",
    "\n",
    "## 1. `hl7apy` library\n",
    "To generate HL7 messages in Python, you can use the `hl7apy` library. Here's an example of how to create an ADT_A01 message:\n",
    "\n",
    "**Key Points**:\n",
    "* hl7apy: This is a powerful library for working with HL7 messages in Python.\n",
    "* Message Structure: You can easily create and modify segments, fields, and components within HL7 messages using the hl7apy library.\n",
    "* Custom Segments: It is possible to add custom Z-segments to your HL7 messages using hl7apy.\n",
    "* Validation: You can validate the generated HL7 messages against the HL7 standard to ensure they are correctly formatted."
   ]
  },
  {
   "cell_type": "code",
   "execution_count": 2,
   "metadata": {},
   "outputs": [
    {
     "name": "stdout",
     "output_type": "stream",
     "text": [
      "Collecting hl7apy\n",
      "  Downloading hl7apy-1.3.5-py2.py3-none-any.whl.metadata (2.0 kB)\n",
      "Downloading hl7apy-1.3.5-py2.py3-none-any.whl (974 kB)\n",
      "\u001b[2K   \u001b[90m━━━━━━━━━━━━━━━━━━━━━━━━━━━━━━━━━━━━━━━━\u001b[0m \u001b[32m974.7/974.7 kB\u001b[0m \u001b[31m5.6 MB/s\u001b[0m eta \u001b[36m0:00:00\u001b[0ma \u001b[36m0:00:01\u001b[0m\n",
      "\u001b[?25hInstalling collected packages: hl7apy\n",
      "Successfully installed hl7apy-1.3.5\n"
     ]
    }
   ],
   "source": [
    "# !pip install hl7apy"
   ]
  },
  {
   "cell_type": "code",
   "execution_count": 4,
   "metadata": {},
   "outputs": [
    {
     "name": "stdout",
     "output_type": "stream",
     "text": [
      "Version: 1.3.5\n"
     ]
    }
   ],
   "source": [
    "!pip show hl7apy | grep Version"
   ]
  },
  {
   "cell_type": "code",
   "execution_count": 5,
   "metadata": {},
   "outputs": [
    {
     "name": "stdout",
     "output_type": "stream",
     "text": [
      "PID|||123456||DOE^JOHN^M||19800101|M_FACILITY|RECEIVING_APPLICATION|RECEIVING_FACILITY|202412280944||ADT^A01|12345|P|2.5\n"
     ]
    }
   ],
   "source": [
    "from hl7apy.core import Message\n",
    "\n",
    "# Create a new ADT_A01 message\n",
    "message = Message(\"ADT_A01\")\n",
    "\n",
    "# Populate the message header (MSH segment)\n",
    "message.msh.msh_3 = \"SENDING_APPLICATION\"\n",
    "message.msh.msh_4 = \"SENDING_FACILITY\"\n",
    "message.msh.msh_5 = \"RECEIVING_APPLICATION\"\n",
    "message.msh.msh_6 = \"RECEIVING_FACILITY\"\n",
    "message.msh.msh_7 = \"202412280944\"\n",
    "message.msh.msh_9 = \"ADT^A01\"\n",
    "message.msh.msh_10 = \"12345\"\n",
    "message.msh.msh_11 = \"P\"\n",
    "message.msh.msh_12 = \"2.5\"\n",
    "\n",
    "# Populate the patient identification (PID segment)\n",
    "message.pid.pid_3 = \"123456\"\n",
    "message.pid.pid_5 = \"DOE^JOHN^M\"\n",
    "message.pid.pid_7 = \"19800101\"\n",
    "message.pid.pid_8 = \"M\"\n",
    "\n",
    "# Generate the HL7 message string\n",
    "hl7_message = message.to_er7()\n",
    "\n",
    "print(hl7_message)"
   ]
  },
  {
   "cell_type": "markdown",
   "metadata": {},
   "source": [
    "# 2. hl7 Python Library\n",
    "\n",
    "This library provides functions for parsing HL7 messages, as well as for creating and modifying HL7 messages. It can be used to extract specific information from HL7 messages, such as patient demographics, clinical data, and lab results.\n",
    "\n",
    "Install `pip install hl7`."
   ]
  },
  {
   "cell_type": "code",
   "execution_count": 7,
   "metadata": {},
   "outputs": [
    {
     "name": "stdout",
     "output_type": "stream",
     "text": [
      "Parsed Message --> MSH|^~\\&|SENDING_APPLICATION|SENDING_FACILITY|RECEIVING_APPLICATION|RECEIVING_FACILITY|202212290801||ADT^A01|93457|P|2.5|||||\n",
      "MSH Segment --> MSH|^~\\&|SENDING_APPLICATION|SENDING_FACILITY|RECEIVING_APPLICATION|RECEIVING_FACILITY|202212290801||ADT^A01|93457|P|2.5|||||\n"
     ]
    }
   ],
   "source": [
    "import hl7\n",
    "\n",
    "# Load the HL7 message into a variable\n",
    "hl7_message = \"MSH|^~\\\\&|SENDING_APPLICATION|SENDING_FACILITY|RECEIVING_APPLICATION|RECEIVING_FACILITY|202212290801||ADT^A01|93457|P|2.5|||||\"\n",
    "\n",
    "# Parse the HL7 message\n",
    "parsed_message = hl7.parse(hl7_message)\n",
    "print(f\"Parsed Message --> {parsed_message}\")\n",
    "\n",
    "# Access the individual segments of the message\n",
    "msh_segment = parsed_message[0]\n",
    "print(f\"MSH Segment --> {msh_segment}\")\n",
    "\n",
    "# evn_segment = parsed_message[1]\n",
    "# pid_segment = parsed_message[2]\n",
    "\n",
    "# Access the fields of a segment\n",
    "# sending_application = msh_segment[2]\n",
    "# patient_id = pid_segment[2]"
   ]
  },
  {
   "cell_type": "code",
   "execution_count": null,
   "metadata": {},
   "outputs": [],
   "source": []
  }
 ],
 "metadata": {
  "kernelspec": {
   "display_name": ".venv",
   "language": "python",
   "name": "python3"
  },
  "language_info": {
   "codemirror_mode": {
    "name": "ipython",
    "version": 3
   },
   "file_extension": ".py",
   "mimetype": "text/x-python",
   "name": "python",
   "nbconvert_exporter": "python",
   "pygments_lexer": "ipython3",
   "version": "3.12.5"
  }
 },
 "nbformat": 4,
 "nbformat_minor": 2
}
