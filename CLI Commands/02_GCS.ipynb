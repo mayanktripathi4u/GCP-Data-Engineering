{
 "cells": [
  {
   "cell_type": "code",
   "execution_count": 1,
   "metadata": {},
   "outputs": [
    {
     "name": "stdout",
     "output_type": "stream",
     "text": [
      "[compute]\n",
      "region = us-central1\n",
      "zone = us-central1-a\n",
      "[core]\n",
      "account = gcpmayanktripathi@gmail.com\n",
      "disable_usage_reporting = False\n",
      "project = proud-climber-421817\n",
      "[gcloudignore]\n",
      "enabled = true\n",
      "[metrics]\n",
      "environment = cloudcode.vscode\n",
      "environment_version = 2.17.0\n",
      "\n",
      "Your active configuration is: [default]\n"
     ]
    }
   ],
   "source": [
    "!gcloud config list"
   ]
  },
  {
   "cell_type": "code",
   "execution_count": 2,
   "metadata": {},
   "outputs": [
    {
     "name": "stdout",
     "output_type": "stream",
     "text": [
      "Creating gs://banking-mt-2024-test/...\n",
      "AccessDeniedException: 403 The billing account for the owning project is disabled in state closed\n"
     ]
    }
   ],
   "source": [
    "# Create Bucket / Make Bucket\n",
    "!gsutil mb gs://banking-mt-2024-test"
   ]
  },
  {
   "cell_type": "markdown",
   "metadata": {},
   "source": []
  },
  {
   "cell_type": "code",
   "execution_count": 3,
   "metadata": {},
   "outputs": [
    {
     "name": "stdout",
     "output_type": "stream",
     "text": [
      "gs://bkt_data_source_mt_devops/\n",
      "gs://cf_source_code_06july_mt/\n",
      "gs://cloud-metric-tracker/\n",
      "gs://dataflow-staging-us-central1-434183563676/\n",
      "gs://demo-dest-bkt-21july/\n",
      "gs://demo-source-bkt-21july/\n",
      "gs://gcf-sources-434183563676-us-central1/\n",
      "gs://gcf-v2-sources-434183563676-us-central1/\n",
      "gs://gcf-v2-uploads-434183563676-us-central1/\n",
      "gs://gcp_terraform_state_files/\n",
      "gs://mt_devops_bkt_01/\n",
      "gs://my-gcs-bucket-18july/\n",
      "gs://my_bucket1234_31july/\n",
      "gs://proud-climber-421817-function-bucket/\n"
     ]
    }
   ],
   "source": [
    "# List the Buckets in a Project\n",
    "!gsutil ls"
   ]
  },
  {
   "cell_type": "code",
   "execution_count": 10,
   "metadata": {},
   "outputs": [
    {
     "name": "stdout",
     "output_type": "stream",
     "text": [
      "gs://gcp_terraform_state_files/GH_GCP_CF_TF_Gen1/\n",
      "gs://gcp_terraform_state_files/GH_GCP_DATA_PIPELINE/\n",
      "gs://gcp_terraform_state_files/GH_GCP_PUBSUB_TF/\n",
      "gs://gcp_terraform_state_files/GH_TF_DevOps_E2EPrj/\n"
     ]
    }
   ],
   "source": [
    "# List the Objects in Buckets in a Project\n",
    "# !gsutil ls gs://cf_source_code_06july_mt/\n",
    "\n",
    "!gsutil ls gs://gcp_terraform_state_files/"
   ]
  },
  {
   "cell_type": "code",
   "execution_count": 6,
   "metadata": {},
   "outputs": [
    {
     "name": "stdout",
     "output_type": "stream",
     "text": [
      "Copying file:///Users/tripathimachine/Desktop/Apps/GitHub_Repo/GCP-Data-Engineering/CLI Commands/sample_data.csv [Content-Type=text/csv]...\n",
      "AccessDeniedException: 403 The billing account for the owning project is disabled in state closed\n"
     ]
    }
   ],
   "source": [
    "# copy from local host to GCS\n",
    "# If there is space in directory name, enclose the path with quotes as below\n",
    "!gsutil cp '/Users/tripathimachine/Desktop/Apps/GitHub_Repo/GCP-Data-Engineering/CLI Commands/sample_data.csv' gs://demo-dest-bkt-21july/"
   ]
  },
  {
   "cell_type": "code",
   "execution_count": 7,
   "metadata": {},
   "outputs": [
    {
     "name": "stdout",
     "output_type": "stream",
     "text": [
      "Copying file:///Users/tripathimachine/Desktop/Apps/GitHub_Repo/GCP-Data-Engineering/CLI Commands/sample_data.csv [Content-Type=text/csv]...\n",
      "AccessDeniedException: 403 The billing account for the owning project is disabled in state closed\n"
     ]
    }
   ],
   "source": [
    "# copy from local host to GCS\n",
    "!gsutil cp '/Users/tripathimachine/Desktop/Apps/GitHub_Repo/GCP-Data-Engineering/CLI Commands/sample_data.csv' gs://demo-dest-bkt-21july/source/sample_data.csv"
   ]
  },
  {
   "cell_type": "code",
   "execution_count": 8,
   "metadata": {},
   "outputs": [
    {
     "name": "stdout",
     "output_type": "stream",
     "text": [
      "Copying file:///Users/tripathimachine/Desktop/Apps/GitHub_Repo/GCP-Data-Engineering/CLI Commands/sample_data.csv [Content-Type=text/csv]...\n",
      "AccessDeniedException: 403 The billing account for the owning project is disabled in state closed\n"
     ]
    }
   ],
   "source": [
    "# copy from local host to GCS\n",
    "# CHange the file name at destination \n",
    "!gsutil cp '/Users/tripathimachine/Desktop/Apps/GitHub_Repo/GCP-Data-Engineering/CLI Commands/sample_data.csv' gs://demo-dest-bkt-21july/source/name-changed.csv"
   ]
  },
  {
   "cell_type": "code",
   "execution_count": null,
   "metadata": {},
   "outputs": [],
   "source": [
    "# Copy recurring files.\n",
    "# !gsutil -r <source_path> gs://my-bucket/my-folder"
   ]
  },
  {
   "cell_type": "code",
   "execution_count": null,
   "metadata": {},
   "outputs": [],
   "source": []
  }
 ],
 "metadata": {
  "kernelspec": {
   "display_name": ".venv",
   "language": "python",
   "name": "python3"
  },
  "language_info": {
   "codemirror_mode": {
    "name": "ipython",
    "version": 3
   },
   "file_extension": ".py",
   "mimetype": "text/x-python",
   "name": "python",
   "nbconvert_exporter": "python",
   "pygments_lexer": "ipython3",
   "version": "3.12.5"
  }
 },
 "nbformat": 4,
 "nbformat_minor": 2
}
