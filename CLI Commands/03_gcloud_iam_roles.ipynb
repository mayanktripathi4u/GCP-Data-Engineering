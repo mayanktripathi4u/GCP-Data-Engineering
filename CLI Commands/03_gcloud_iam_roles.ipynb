{
 "cells": [
  {
   "cell_type": "markdown",
   "metadata": {},
   "source": [
    "# Using `gcloud` command"
   ]
  },
  {
   "cell_type": "code",
   "execution_count": null,
   "metadata": {},
   "outputs": [],
   "source": [
    "!gcloud "
   ]
  },
  {
   "cell_type": "markdown",
   "metadata": {},
   "source": [
    "# Using Python Library"
   ]
  },
  {
   "cell_type": "markdown",
   "metadata": {},
   "source": [
    "To get a list of custom roles from a given project in Google Cloud using Python, you can use the google-cloud-iam library. This library provides access to IAM (Identity and Access Management) API, which allows you to list, create, and manage roles, including custom roles.\n",
    "\n",
    "* Step 1: Install the Required Libraries\n",
    "\n",
    "First, you need to install the google-cloud-iam library. You can install it using pip:"
   ]
  },
  {
   "cell_type": "code",
   "execution_count": 2,
   "metadata": {},
   "outputs": [
    {
     "name": "stdout",
     "output_type": "stream",
     "text": [
      "Collecting google-cloud-iam\n",
      "  Downloading google_cloud_iam-2.16.1-py2.py3-none-any.whl.metadata (5.5 kB)\n",
      "Requirement already satisfied: google-api-core!=2.0.*,!=2.1.*,!=2.10.*,!=2.2.*,!=2.3.*,!=2.4.*,!=2.5.*,!=2.6.*,!=2.7.*,!=2.8.*,!=2.9.*,<3.0.0dev,>=1.34.1 in /Users/tripathimachine/Desktop/Apps/GitHub_Repo/.venv/lib/python3.12/site-packages (from google-api-core[grpc]!=2.0.*,!=2.1.*,!=2.10.*,!=2.2.*,!=2.3.*,!=2.4.*,!=2.5.*,!=2.6.*,!=2.7.*,!=2.8.*,!=2.9.*,<3.0.0dev,>=1.34.1->google-cloud-iam) (2.20.0)\n",
      "Requirement already satisfied: google-auth!=2.24.0,!=2.25.0,<3.0.0dev,>=2.14.1 in /Users/tripathimachine/Desktop/Apps/GitHub_Repo/.venv/lib/python3.12/site-packages (from google-cloud-iam) (2.35.0)\n",
      "Requirement already satisfied: grpc-google-iam-v1<1.0.0dev,>=0.12.4 in /Users/tripathimachine/Desktop/Apps/GitHub_Repo/.venv/lib/python3.12/site-packages (from google-cloud-iam) (0.13.1)\n",
      "Requirement already satisfied: proto-plus<2.0.0dev,>=1.22.3 in /Users/tripathimachine/Desktop/Apps/GitHub_Repo/.venv/lib/python3.12/site-packages (from google-cloud-iam) (1.24.0)\n",
      "Requirement already satisfied: protobuf!=4.21.0,!=4.21.1,!=4.21.2,!=4.21.3,!=4.21.4,!=4.21.5,<6.0.0dev,>=3.20.2 in /Users/tripathimachine/Desktop/Apps/GitHub_Repo/.venv/lib/python3.12/site-packages (from google-cloud-iam) (4.25.5)\n",
      "Requirement already satisfied: googleapis-common-protos<2.0.dev0,>=1.56.2 in /Users/tripathimachine/Desktop/Apps/GitHub_Repo/.venv/lib/python3.12/site-packages (from google-api-core!=2.0.*,!=2.1.*,!=2.10.*,!=2.2.*,!=2.3.*,!=2.4.*,!=2.5.*,!=2.6.*,!=2.7.*,!=2.8.*,!=2.9.*,<3.0.0dev,>=1.34.1->google-api-core[grpc]!=2.0.*,!=2.1.*,!=2.10.*,!=2.2.*,!=2.3.*,!=2.4.*,!=2.5.*,!=2.6.*,!=2.7.*,!=2.8.*,!=2.9.*,<3.0.0dev,>=1.34.1->google-cloud-iam) (1.65.0)\n",
      "Requirement already satisfied: requests<3.0.0.dev0,>=2.18.0 in /Users/tripathimachine/Desktop/Apps/GitHub_Repo/.venv/lib/python3.12/site-packages (from google-api-core!=2.0.*,!=2.1.*,!=2.10.*,!=2.2.*,!=2.3.*,!=2.4.*,!=2.5.*,!=2.6.*,!=2.7.*,!=2.8.*,!=2.9.*,<3.0.0dev,>=1.34.1->google-api-core[grpc]!=2.0.*,!=2.1.*,!=2.10.*,!=2.2.*,!=2.3.*,!=2.4.*,!=2.5.*,!=2.6.*,!=2.7.*,!=2.8.*,!=2.9.*,<3.0.0dev,>=1.34.1->google-cloud-iam) (2.32.3)\n",
      "Requirement already satisfied: grpcio<2.0dev,>=1.33.2 in /Users/tripathimachine/Desktop/Apps/GitHub_Repo/.venv/lib/python3.12/site-packages (from google-api-core[grpc]!=2.0.*,!=2.1.*,!=2.10.*,!=2.2.*,!=2.3.*,!=2.4.*,!=2.5.*,!=2.6.*,!=2.7.*,!=2.8.*,!=2.9.*,<3.0.0dev,>=1.34.1->google-cloud-iam) (1.66.1)\n",
      "Requirement already satisfied: grpcio-status<2.0.dev0,>=1.33.2 in /Users/tripathimachine/Desktop/Apps/GitHub_Repo/.venv/lib/python3.12/site-packages (from google-api-core[grpc]!=2.0.*,!=2.1.*,!=2.10.*,!=2.2.*,!=2.3.*,!=2.4.*,!=2.5.*,!=2.6.*,!=2.7.*,!=2.8.*,!=2.9.*,<3.0.0dev,>=1.34.1->google-cloud-iam) (1.62.3)\n",
      "Requirement already satisfied: cachetools<6.0,>=2.0.0 in /Users/tripathimachine/Desktop/Apps/GitHub_Repo/.venv/lib/python3.12/site-packages (from google-auth!=2.24.0,!=2.25.0,<3.0.0dev,>=2.14.1->google-cloud-iam) (5.5.0)\n",
      "Requirement already satisfied: pyasn1-modules>=0.2.1 in /Users/tripathimachine/Desktop/Apps/GitHub_Repo/.venv/lib/python3.12/site-packages (from google-auth!=2.24.0,!=2.25.0,<3.0.0dev,>=2.14.1->google-cloud-iam) (0.4.1)\n",
      "Requirement already satisfied: rsa<5,>=3.1.4 in /Users/tripathimachine/Desktop/Apps/GitHub_Repo/.venv/lib/python3.12/site-packages (from google-auth!=2.24.0,!=2.25.0,<3.0.0dev,>=2.14.1->google-cloud-iam) (4.9)\n",
      "Requirement already satisfied: pyasn1<0.7.0,>=0.4.6 in /Users/tripathimachine/Desktop/Apps/GitHub_Repo/.venv/lib/python3.12/site-packages (from pyasn1-modules>=0.2.1->google-auth!=2.24.0,!=2.25.0,<3.0.0dev,>=2.14.1->google-cloud-iam) (0.6.1)\n",
      "Requirement already satisfied: charset-normalizer<4,>=2 in /Users/tripathimachine/Desktop/Apps/GitHub_Repo/.venv/lib/python3.12/site-packages (from requests<3.0.0.dev0,>=2.18.0->google-api-core!=2.0.*,!=2.1.*,!=2.10.*,!=2.2.*,!=2.3.*,!=2.4.*,!=2.5.*,!=2.6.*,!=2.7.*,!=2.8.*,!=2.9.*,<3.0.0dev,>=1.34.1->google-api-core[grpc]!=2.0.*,!=2.1.*,!=2.10.*,!=2.2.*,!=2.3.*,!=2.4.*,!=2.5.*,!=2.6.*,!=2.7.*,!=2.8.*,!=2.9.*,<3.0.0dev,>=1.34.1->google-cloud-iam) (3.3.2)\n",
      "Requirement already satisfied: idna<4,>=2.5 in /Users/tripathimachine/Desktop/Apps/GitHub_Repo/.venv/lib/python3.12/site-packages (from requests<3.0.0.dev0,>=2.18.0->google-api-core!=2.0.*,!=2.1.*,!=2.10.*,!=2.2.*,!=2.3.*,!=2.4.*,!=2.5.*,!=2.6.*,!=2.7.*,!=2.8.*,!=2.9.*,<3.0.0dev,>=1.34.1->google-api-core[grpc]!=2.0.*,!=2.1.*,!=2.10.*,!=2.2.*,!=2.3.*,!=2.4.*,!=2.5.*,!=2.6.*,!=2.7.*,!=2.8.*,!=2.9.*,<3.0.0dev,>=1.34.1->google-cloud-iam) (3.9)\n",
      "Requirement already satisfied: urllib3<3,>=1.21.1 in /Users/tripathimachine/Desktop/Apps/GitHub_Repo/.venv/lib/python3.12/site-packages (from requests<3.0.0.dev0,>=2.18.0->google-api-core!=2.0.*,!=2.1.*,!=2.10.*,!=2.2.*,!=2.3.*,!=2.4.*,!=2.5.*,!=2.6.*,!=2.7.*,!=2.8.*,!=2.9.*,<3.0.0dev,>=1.34.1->google-api-core[grpc]!=2.0.*,!=2.1.*,!=2.10.*,!=2.2.*,!=2.3.*,!=2.4.*,!=2.5.*,!=2.6.*,!=2.7.*,!=2.8.*,!=2.9.*,<3.0.0dev,>=1.34.1->google-cloud-iam) (2.2.3)\n",
      "Requirement already satisfied: certifi>=2017.4.17 in /Users/tripathimachine/Desktop/Apps/GitHub_Repo/.venv/lib/python3.12/site-packages (from requests<3.0.0.dev0,>=2.18.0->google-api-core!=2.0.*,!=2.1.*,!=2.10.*,!=2.2.*,!=2.3.*,!=2.4.*,!=2.5.*,!=2.6.*,!=2.7.*,!=2.8.*,!=2.9.*,<3.0.0dev,>=1.34.1->google-api-core[grpc]!=2.0.*,!=2.1.*,!=2.10.*,!=2.2.*,!=2.3.*,!=2.4.*,!=2.5.*,!=2.6.*,!=2.7.*,!=2.8.*,!=2.9.*,<3.0.0dev,>=1.34.1->google-cloud-iam) (2024.8.30)\n",
      "Downloading google_cloud_iam-2.16.1-py2.py3-none-any.whl (213 kB)\n",
      "Installing collected packages: google-cloud-iam\n",
      "Successfully installed google-cloud-iam-2.16.1\n"
     ]
    }
   ],
   "source": [
    "!pip install google-cloud-iam"
   ]
  },
  {
   "cell_type": "code",
   "execution_count": 3,
   "metadata": {},
   "outputs": [
    {
     "name": "stdout",
     "output_type": "stream",
     "text": [
      "Name: google-cloud-iam\n",
      "Version: 2.16.1\n",
      "Summary: Google Cloud Iam API client library\n",
      "Home-page: https://github.com/googleapis/google-cloud-python/tree/main/packages/google-cloud-iam\n",
      "Author: Google LLC\n",
      "Author-email: googleapis-packages@google.com\n",
      "License: Apache 2.0\n",
      "Location: /Users/tripathimachine/Desktop/Apps/GitHub_Repo/.venv/lib/python3.12/site-packages\n",
      "Requires: google-api-core, google-auth, grpc-google-iam-v1, proto-plus, protobuf\n",
      "Required-by: \n"
     ]
    }
   ],
   "source": [
    "!pip show google-cloud-iam"
   ]
  },
  {
   "cell_type": "code",
   "execution_count": null,
   "metadata": {},
   "outputs": [],
   "source": []
  },
  {
   "cell_type": "markdown",
   "metadata": {},
   "source": [
    "* Step 2: Authenticate with Google Cloud\n",
    "\n",
    "Make sure you authenticate your Python script to access Google Cloud. You can authenticate using a service account key or application default credentials (ADC).\n",
    "\n",
    "To use service account credentials:\n",
    "\n",
    "  * Go to the Google Cloud Console.\n",
    "  * Create a Service Account and download the private key (JSON file).\n",
    "  * Set the GOOGLE_APPLICATION_CREDENTIALS environment variable to point to your service account key.\n",
    "\n",
    "`export GOOGLE_APPLICATION_CREDENTIALS=\"path_to_your_service_account_file.json\"`\n",
    "\n",
    "\n",
    "Alternatively, use the default credentials. "
   ]
  },
  {
   "cell_type": "code",
   "execution_count": null,
   "metadata": {},
   "outputs": [],
   "source": [
    "# -- No code, I am using default authentication"
   ]
  },
  {
   "cell_type": "markdown",
   "metadata": {},
   "source": [
    "* Step 3: Write the Python Code to List Custom Roles\n",
    "\n",
    "Now, use the following Python code to list the custom roles from a specific Google Cloud project:\n",
    "\n",
    "Before that I will verify the package / library."
   ]
  },
  {
   "cell_type": "code",
   "execution_count": 20,
   "metadata": {},
   "outputs": [],
   "source": [
    "# import google.cloud.iam_v1\n",
    "# print(google.cloud.iam_v1)"
   ]
  },
  {
   "cell_type": "code",
   "execution_count": 19,
   "metadata": {},
   "outputs": [],
   "source": [
    "# from google.cloud import iam_v1\n",
    "\n",
    "# client = iam_v1.IAMClient()\n",
    "# if client:\n",
    "#     print(\"Library Imported successfully\")\n",
    "# else:\n",
    "#     print(\"Some Error\")"
   ]
  },
  {
   "cell_type": "code",
   "execution_count": 16,
   "metadata": {},
   "outputs": [
    {
     "name": "stdout",
     "output_type": "stream",
     "text": [
      "/Users/tripathimachine/Desktop/Apps/GitHub_Repo/.venv/bin/python\n"
     ]
    }
   ],
   "source": [
    "!which python"
   ]
  },
  {
   "cell_type": "code",
   "execution_count": 17,
   "metadata": {},
   "outputs": [
    {
     "name": "stdout",
     "output_type": "stream",
     "text": [
      "['/opt/homebrew/Cellar/python@3.12/3.12.5/Frameworks/Python.framework/Versions/3.12/lib/python312.zip', '/opt/homebrew/Cellar/python@3.12/3.12.5/Frameworks/Python.framework/Versions/3.12/lib/python3.12', '/opt/homebrew/Cellar/python@3.12/3.12.5/Frameworks/Python.framework/Versions/3.12/lib/python3.12/lib-dynload', '', '/Users/tripathimachine/Desktop/Apps/GitHub_Repo/.venv/lib/python3.12/site-packages']\n"
     ]
    }
   ],
   "source": [
    "import sys\n",
    "print(sys.path)\n"
   ]
  },
  {
   "cell_type": "markdown",
   "metadata": {},
   "source": [
    "# Step 4: Alternative if Using google-cloud package directly\n",
    "\n",
    "If you’re still having issues with google-cloud-iam, there’s an alternative where you can use google-api-python-client which is another commonly used library to interact with IAM resources.\n",
    "\n",
    "`pip install google-api-python-client`\n"
   ]
  },
  {
   "cell_type": "code",
   "execution_count": 18,
   "metadata": {},
   "outputs": [
    {
     "name": "stdout",
     "output_type": "stream",
     "text": [
      "<googleapiclient.discovery.Resource object at 0x118872480>\n"
     ]
    }
   ],
   "source": [
    "from googleapiclient.discovery import build\n",
    "\n",
    "# Build the IAM service\n",
    "service = build('iam', 'v1')\n",
    "print(service)"
   ]
  },
  {
   "cell_type": "code",
   "execution_count": 23,
   "metadata": {},
   "outputs": [
    {
     "name": "stdout",
     "output_type": "stream",
     "text": [
      "list_custom_roles function called.\n",
      "Got the list of roles : {'roles': [{'name': 'projects/gcphde-prim-dev-data/roles/CustomRole_BQ_Admin', 'title': 'Custom Role for BQ Admin', 'description': 'Custom Role for BQ Admin', 'etag': 'BwYohNNo71Y='}]}\n",
      "Custom Role beforing returning: []\n"
     ]
    }
   ],
   "source": [
    "from googleapiclient.discovery import build\n",
    "from google.oauth2 import service_account\n",
    "\n",
    "def list_custom_roles(project_id):\n",
    "    print(\"list_custom_roles function called.\")\n",
    "    # # Path to your service account key file\n",
    "    # credentials = service_account.Credentials.from_service_account_file(\n",
    "    #     'path_to_your_service_account.json',\n",
    "    #     scopes=['https://www.googleapis.com/auth/cloud-platform']\n",
    "    # )\n",
    "\n",
    "    # Build the IAM service\n",
    "    # service = build('iam', 'v1', credentials=credentials)\n",
    "    service = build('iam', 'v1')\n",
    "\n",
    "    # Get the roles for the project\n",
    "    roles = service.projects().roles().list(\n",
    "        parent=f'projects/{project_id}'\n",
    "    ).execute()\n",
    "\n",
    "    print(f\"Got the list of roles : {roles}\")\n",
    "\n",
    "    # Filter custom roles\n",
    "    custom_roles = [role for role in roles['roles'] if role.get('isCustom', False)]\n",
    "\n",
    "    print(f\"Custom Role beforing returning: {custom_roles}\")\n",
    "\n",
    "    return custom_roles\n",
    "\n",
    "# Example usage\n",
    "project_id = 'gcphde-prim-dev-data'\n",
    "custom_roles = list_custom_roles(project_id)\n",
    "\n",
    "# Print out the custom roles\n",
    "for role in custom_roles:\n",
    "    print(f\"Looping for each custom role\")\n",
    "    print(role)\n"
   ]
  },
  {
   "cell_type": "code",
   "execution_count": null,
   "metadata": {},
   "outputs": [],
   "source": []
  }
 ],
 "metadata": {
  "kernelspec": {
   "display_name": ".venv",
   "language": "python",
   "name": "python3"
  },
  "language_info": {
   "codemirror_mode": {
    "name": "ipython",
    "version": 3
   },
   "file_extension": ".py",
   "mimetype": "text/x-python",
   "name": "python",
   "nbconvert_exporter": "python",
   "pygments_lexer": "ipython3",
   "version": "3.12.5"
  }
 },
 "nbformat": 4,
 "nbformat_minor": 2
}
