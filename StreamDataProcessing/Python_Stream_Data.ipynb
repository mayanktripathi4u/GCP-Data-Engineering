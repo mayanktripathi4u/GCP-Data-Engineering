{
 "cells": [
  {
   "cell_type": "code",
   "execution_count": 2,
   "metadata": {},
   "outputs": [],
   "source": [
    "from google.cloud import pubsub_v1\n",
    "import time\n",
    "import datetime as dt"
   ]
  },
  {
   "cell_type": "code",
   "execution_count": 3,
   "metadata": {},
   "outputs": [],
   "source": [
    "# Get Project Details\n",
    "project_id = \"my-project-123a\"\n",
    "topic_id = \"pubsub_dataflow_topic\""
   ]
  },
  {
   "cell_type": "code",
   "execution_count": 4,
   "metadata": {},
   "outputs": [],
   "source": [
    "# Publisher Client\n",
    "publisher = pubsub_v1.PublisherClient()\n",
    "topic_path = publisher.topic_path(project_id, topic_id)"
   ]
  },
  {
   "cell_type": "code",
   "execution_count": null,
   "metadata": {},
   "outputs": [],
   "source": [
    "for event_nbr in range(1,100):\n",
    "    data_str = f\"{event_nbr}, {dt.datetime.now()}\"\n",
    "    data = data_str.encode(\"utf-8\")\n",
    "    time.sleep(1)\n",
    "\n",
    "    future = publisher.publish(\n",
    "        topic=topic_path,\n",
    "        data=data,\n",
    "        origin = \"python-sample\",\n",
    "        username = \"gcp\"\n",
    "    )\n",
    "    print(future.result())\n",
    "    print(data)\n",
    "\n",
    "print(f\"Published messages with custom attributes to {topic_path}.\")"
   ]
  }
 ],
 "metadata": {
  "kernelspec": {
   "display_name": ".pyspark-env",
   "language": "python",
   "name": "python3"
  },
  "language_info": {
   "codemirror_mode": {
    "name": "ipython",
    "version": 3
   },
   "file_extension": ".py",
   "mimetype": "text/x-python",
   "name": "python",
   "nbconvert_exporter": "python",
   "pygments_lexer": "ipython3",
   "version": "3.9.6"
  }
 },
 "nbformat": 4,
 "nbformat_minor": 2
}
